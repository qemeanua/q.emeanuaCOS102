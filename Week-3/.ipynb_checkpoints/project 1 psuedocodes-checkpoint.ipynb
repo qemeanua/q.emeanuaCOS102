{
 "cells": [
  {
   "cell_type": "code",
   "execution_count": 1,
   "id": "1711e472-6d25-481b-9b24-f7684be13432",
   "metadata": {},
   "outputs": [],
   "source": [
    "#A\n",
    "#1. Start\n",
    "#2. Input the goods bought with their respective prices\n",
    "#3. Calculate the sum of the prices of the goods\n",
    "#4. Choose payment method\n",
    "#5. If the total cost of goods exceeds the money avaliable\n",
    "#6. Display \"Insufficient funds\"\n",
    "#7. Else display : \"Payment Successful\"\n",
    "#8. Print receipt\n",
    "#9. End"
   ]
  },
  {
   "cell_type": "code",
   "execution_count": null,
   "id": "a24fe46d-9117-487e-a653-764e8f06e9bf",
   "metadata": {},
   "outputs": [],
   "source": [
    "#B\n",
    "#1. Start\n",
    "#2.Input Name A \n",
    "#3.Input Name B\n",
    "#4.Let Name A's age = Q1 \n",
    "#5.Let Name B's age = Q2\n",
    "#6.Input Q1\n",
    "#7.Input Q2\n",
    "#6.let N1 = Name A's new age\n",
    "#8.let N2 = Name B's new age\n",
    "#9.Q1 = N2\n",
    "#10.Q2 = N1\n",
    "#11.Print Q1 and Q2\n",
    "#12.End\n"
   ]
  }
 ],
 "metadata": {
  "kernelspec": {
   "display_name": "Python 3 (ipykernel)",
   "language": "python",
   "name": "python3"
  },
  "language_info": {
   "codemirror_mode": {
    "name": "ipython",
    "version": 3
   },
   "file_extension": ".py",
   "mimetype": "text/x-python",
   "name": "python",
   "nbconvert_exporter": "python",
   "pygments_lexer": "ipython3",
   "version": "3.11.7"
  }
 },
 "nbformat": 4,
 "nbformat_minor": 5
}
