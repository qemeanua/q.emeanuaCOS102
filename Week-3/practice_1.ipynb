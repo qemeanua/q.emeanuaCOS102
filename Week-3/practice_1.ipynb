{
 "cells": [
  {
   "cell_type": "code",
   "execution_count": 3,
   "id": "6b73342b-c372-417c-9f19-a783494cff99",
   "metadata": {},
   "outputs": [
    {
     "name": "stdin",
     "output_type": "stream",
     "text": [
      "Enter your state of origin: Australia\n"
     ]
    },
    {
     "name": "stdout",
     "output_type": "stream",
     "text": [
      "You state of origin is:  Australia\n",
      "The first character is:  A\n",
      "The characters starting from 3rd to 5th are : str\n",
      "State of origin two times AustraliaAustralia\n",
      "The String starting from the 3rd character is: stralia\n"
     ]
    }
   ],
   "source": [
    "str = input(\"Enter your state of origin:\")\n",
    "\n",
    "print (\"You state of origin is: \", str)\n",
    "print (\"The first character is: \", str[0])\n",
    "print (\"The characters starting from 3rd to 5th are :\", str[2:5])\n",
    "print (\"State of origin two times\",str * 2)\n",
    "print (\"The String starting from the 3rd character is:\", str[2:])\n"
   ]
  },
  {
   "cell_type": "code",
   "execution_count": null,
   "id": "537b39aa-943a-4103-832d-baf60fea6480",
   "metadata": {},
   "outputs": [],
   "source": []
  },
  {
   "cell_type": "code",
   "execution_count": null,
   "id": "f6ca73ee-0aa3-46bf-a08d-068036486e0b",
   "metadata": {},
   "outputs": [],
   "source": []
  }
 ],
 "metadata": {
  "kernelspec": {
   "display_name": "Python 3 (ipykernel)",
   "language": "python",
   "name": "python3"
  },
  "language_info": {
   "codemirror_mode": {
    "name": "ipython",
    "version": 3
   },
   "file_extension": ".py",
   "mimetype": "text/x-python",
   "name": "python",
   "nbconvert_exporter": "python",
   "pygments_lexer": "ipython3",
   "version": "3.11.7"
  }
 },
 "nbformat": 4,
 "nbformat_minor": 5
}
