{
 "cells": [
  {
   "cell_type": "code",
   "execution_count": 1,
   "id": "90ac0ba0-3be3-4c4f-ad4f-0b6585e519ca",
   "metadata": {},
   "outputs": [
    {
     "name": "stdout",
     "output_type": "stream",
     "text": [
      "('Ekiti', 750, 'Awka', 250, 'Imo', 500)\n",
      "500\n",
      "('Awka', 250)\n",
      "(250, 'Imo', 500)\n",
      "('Abeaoukuta', 300, 'Ogbomoso', 'Abeaoukuta', 300, 'Ogbomoso', 'Abeaoukuta', 300, 'Ogbomoso')\n",
      "('Ekiti', 750, 'Awka', 250, 'Imo', 500, 'Abeaoukuta', 300, 'Ogbomoso')\n"
     ]
    }
   ],
   "source": [
    "tuple = (\"Ekiti\" , 750 , 'Awka' , 250 , 'Imo' , 500)\n",
    "s_tuple = ('Abeaoukuta' , 300 , 'Ogbomoso')\n",
    "\n",
    "print (tuple)\n",
    "\n",
    "print (tuple[-1]) #last element\n",
    "\n",
    "print (tuple[2:4]) #2nd till 3rd\n",
    "\n",
    "print (tuple[3:]) #starting from 3rd element\n",
    "\n",
    "print (s_tuple * 3)\n",
    "\n",
    "print ( tuple + s_tuple)\n"
   ]
  }
 ],
 "metadata": {
  "kernelspec": {
   "display_name": "Python 3 (ipykernel)",
   "language": "python",
   "name": "python3"
  },
  "language_info": {
   "codemirror_mode": {
    "name": "ipython",
    "version": 3
   },
   "file_extension": ".py",
   "mimetype": "text/x-python",
   "name": "python",
   "nbconvert_exporter": "python",
   "pygments_lexer": "ipython3",
   "version": "3.11.7"
  }
 },
 "nbformat": 4,
 "nbformat_minor": 5
}
