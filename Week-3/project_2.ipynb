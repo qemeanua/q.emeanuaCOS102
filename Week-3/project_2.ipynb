{
 "cells": [
  {
   "cell_type": "code",
   "execution_count": 27,
   "id": "fb7f7f79-a83b-40b3-8af3-ee755cacaeed",
   "metadata": {},
   "outputs": [
    {
     "name": "stdout",
     "output_type": "stream",
     "text": [
      "Formula for Quadratic and Cubic Equations\n",
      "To perform a cubic equation type 1\n",
      "To perform a quadratic equation type 2\n"
     ]
    },
    {
     "name": "stdin",
     "output_type": "stream",
     "text": [
      "Pick a number   2\n",
      "Enter A 8\n",
      "Enter B 10\n",
      "Enter C -5\n",
      "Enter D -6\n"
     ]
    }
   ],
   "source": [
    "str1 = \"Formula for Quadratic and Cubic Equations\"\n",
    "str2 = \"To perform a cubic equation type 1\"\n",
    "str3 = \"To perform a quadratic equation type 2\"\n",
    "\n",
    "print(str1)\n",
    "print(str2)\n",
    "print(str3)\n",
    "\n",
    "F = int(input(\"Pick a number  \"))\n",
    "\n",
    "if F == 1:\n",
    "    A = int(input(\"Enter A\"))\n",
    "    B = int(input(\"Enter B\")) \n",
    "    C = int(input(\"Enter C\"))\n",
    "    D = (((B**2) - (4 * A * C)) ** 0.5)       \n",
    "    X1 = (((-B) + D ) / 2 * A )\n",
    "    X2 = (((-B) - D ) / 2 * A )\n",
    "    print(\"The first root of the quadratic equation is: \", X1)\n",
    "    print(\"The second root of the quadratic equation is: \", X2)\n",
    "\n",
    "elif F == 2:\n",
    "    A = int(input(\"Enter A\"))\n",
    "    B = int(input(\"Enter B\")) \n",
    "    C = int(input(\"Enter C\"))\n",
    "    D = int(input(\"Enter D\")) \n",
    "    for X in range (-100,100):\n",
    "        G = (A * (X**3)) + (B * (X**2)) + (C*X) + D\n",
    "        if G == 0:\n",
    "            print(\"The root of the equation is:\",G,X)\n",
    "\n"
   ]
  },
  {
   "cell_type": "code",
   "execution_count": null,
   "id": "d253cdaf-d29b-4187-a644-a7fc252c5c7a",
   "metadata": {},
   "outputs": [],
   "source": []
  }
 ],
 "metadata": {
  "kernelspec": {
   "display_name": "Python 3 (ipykernel)",
   "language": "python",
   "name": "python3"
  },
  "language_info": {
   "codemirror_mode": {
    "name": "ipython",
    "version": 3
   },
   "file_extension": ".py",
   "mimetype": "text/x-python",
   "name": "python",
   "nbconvert_exporter": "python",
   "pygments_lexer": "ipython3",
   "version": "3.11.7"
  }
 },
 "nbformat": 4,
 "nbformat_minor": 5
}
