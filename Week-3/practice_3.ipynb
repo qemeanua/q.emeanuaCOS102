{
 "cells": [
  {
   "cell_type": "code",
   "execution_count": 1,
   "id": "c935b58c-2637-4fbd-83b0-bf0e67727658",
   "metadata": {},
   "outputs": [
    {
     "name": "stdout",
     "output_type": "stream",
     "text": [
      "['Bear', 224, 2.45, 'Jupyter', 70.2]\n",
      "Bear\n",
      "[224, 2.45]\n",
      "[2.45, 'Jupyter', 70.2]\n",
      "[789, 'Eagle', 789, 'Eagle']\n",
      "['Bear', 224, 2.45, 'Jupyter', 70.2, 789, 'Eagle']\n"
     ]
    }
   ],
   "source": [
    "list = ['Bear' , 224 , 2.45 , 'Jupyter' , 70.2 ]\n",
    "shortlist = [ 789 , 'Eagle']\n",
    "\n",
    "print(list)                 #complete list\n",
    "print(list[0])              #first element of the list\n",
    "print(list[1:3])            #2nd to 3rd element\n",
    "print(list[2:])             #elements starting from 3rd element\n",
    "print(shortlist * 2 )       #list is printed twice\n",
    "print(list + shortlist)     #concateated lines printed"
   ]
  },
  {
   "cell_type": "code",
   "execution_count": null,
   "id": "a5083e85-3351-4d32-a204-225a9208b19a",
   "metadata": {},
   "outputs": [],
   "source": []
  }
 ],
 "metadata": {
  "kernelspec": {
   "display_name": "Python 3 (ipykernel)",
   "language": "python",
   "name": "python3"
  },
  "language_info": {
   "codemirror_mode": {
    "name": "ipython",
    "version": 3
   },
   "file_extension": ".py",
   "mimetype": "text/x-python",
   "name": "python",
   "nbconvert_exporter": "python",
   "pygments_lexer": "ipython3",
   "version": "3.11.7"
  }
 },
 "nbformat": 4,
 "nbformat_minor": 5
}
