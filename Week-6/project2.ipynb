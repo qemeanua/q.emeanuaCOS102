{
 "cells": [
  {
   "cell_type": "code",
   "execution_count": null,
   "id": "39341064-5d19-4f6f-9458-96f4ec73fdd9",
   "metadata": {},
   "outputs": [],
   "source": []
  },
  {
   "cell_type": "code",
   "execution_count": 1,
   "id": "a463c516-0ced-4cb6-aa90-33c935786f8a",
   "metadata": {},
   "outputs": [
    {
     "name": "stdin",
     "output_type": "stream",
     "text": [
      "What course do you intend on studying comp sci\n"
     ]
    },
    {
     "name": "stdout",
     "output_type": "stream",
     "text": [
      "Welcome to the admission checker app\n",
      "Please fill in the following information\n"
     ]
    },
    {
     "name": "stdin",
     "output_type": "stream",
     "text": [
      "Input your jamb score 300\n"
     ]
    },
    {
     "name": "stdout",
     "output_type": "stream",
     "text": [
      "Enter your grade for the core following subjects\n"
     ]
    },
    {
     "name": "stdin",
     "output_type": "stream",
     "text": [
      "What is your Math grade: A\n",
      "What is your English grade: A\n",
      "What is your Phyics grade: A\n",
      "What is your Chemistry grade: A\n",
      "What is your Economics grade: A\n",
      "What is your name YORI\n"
     ]
    },
    {
     "name": "stdout",
     "output_type": "stream",
     "text": [
      "Congratulations YORI, with a jamb score of 300 you have been admitted\n"
     ]
    },
    {
     "name": "stdin",
     "output_type": "stream",
     "text": [
      "Input your jamb score 300\n"
     ]
    },
    {
     "name": "stdout",
     "output_type": "stream",
     "text": [
      "Enter your grade for the core following subjects\n"
     ]
    },
    {
     "name": "stdin",
     "output_type": "stream",
     "text": [
      "What is your Math grade: A\n",
      "What is your English grade: A\n",
      "What is your Phyics grade: A\n",
      "What is your Chemistry grade: B\n",
      "What is your Economics grade: B\n",
      "What is your name POE\n"
     ]
    },
    {
     "name": "stdout",
     "output_type": "stream",
     "text": [
      "Congratulations POE, with a jamb score of 300 you have been admitted\n",
      "The following students have been admitted\n",
      "[]\n"
     ]
    }
   ],
   "source": [
    "def Computer_Science():\n",
    "    print(\"Welcome to the admission checker app\")\n",
    "    print(\"Please fill in the following information\")\n",
    "\n",
    "    j1 = []\n",
    "    m1 = []          \n",
    "    e1 = []  \n",
    "    p1 = []  \n",
    "    c1 = []  \n",
    "    ec1 = []\n",
    "\n",
    "    for i in range(2):\n",
    "        j = int(input(\"Input your jamb score\"))\n",
    "\n",
    "        print(\"Enter your grade for the core following subjects\")\n",
    "        m = input(\"What is your Math grade:\")                 \n",
    "        e = input(\"What is your English grade:\")  \n",
    "        p = input(\"What is your Phyics grade:\")  \n",
    "        c = input(\"What is your Chemistry grade:\")  \n",
    "        ec = input(\"What is your Economics grade:\")  \n",
    "\n",
    "        if j >= 250:\n",
    "            if m == 'A' or m == 'B' or m == 'C':\n",
    "                 if e == 'A' or e == 'B' or e == 'C':\n",
    "                      if p == 'A' or p == 'B' or p == 'C':\n",
    "                           if c == 'A' or c == 'B' or c == 'C':\n",
    "                                if ec == 'A' or ec == 'B' or ec == 'C':\n",
    "                                                                                        \n",
    "                                    j1.append(j)\n",
    "                                    m1.append(m)\n",
    "                                    e1.append(e)\n",
    "                                    p1.append(p)\n",
    "                                    ec1.append(ec)\n",
    "                                    print(f\"Congratulations {c_name}, with a jamb score of {j} you have been admitted\")\n",
    "                                    c_name = input(\"What is your name\")\n",
    "        else:\n",
    "            print(\"You are not admitted\")\n",
    "            \n",
    "def Mass_Communication():\n",
    "    print(\"Welcome to the admission checker app\")\n",
    "    print(\"Please fill in the following information\")\n",
    "\n",
    "    ja1 = []\n",
    "    ma1 = []          \n",
    "    en1 = []  \n",
    "    go1 = []  \n",
    "    li1 = []  \n",
    "    ec2 = []\n",
    "\n",
    "    for i in range(2):\n",
    "        ja = int(input(\"Input your jamb score\"))\n",
    "\n",
    "        print(\"Enter your grade for the core following subjects\")\n",
    "        ma = input(\"What is your Math grade:\")                 \n",
    "        en = input(\"What is your English grade:\")  \n",
    "        go = input(\"What is your Government grade:\")  \n",
    "        li = input(\"What is your Literature grade:\")  \n",
    "        ecn = input(\"What is your Economics grade:\")  \n",
    "\n",
    "        if ja >= 250:\n",
    "            if ma == 'A' or ma == 'B' or ma == 'C':\n",
    "                 if en == 'A' or en == 'B' or en == 'C':\n",
    "                      if go == 'A' or go == 'B' or go == 'C':\n",
    "                           if li == 'A' or li == 'B' or li == 'C':\n",
    "                                if ecn == 'A' or ecn == 'B' or ecn == 'C':\n",
    "                                    m_name = input(\"What is your name\")\n",
    "                                    ja1.append(ja)\n",
    "                                    ma1.append(ma)\n",
    "                                    go1.append(go)\n",
    "                                    li1.append(li)\n",
    "                                    ec2.append(ecn)\n",
    "                                    print(f\"Congratulations {m_name}, with a jamb score of {ja} you have been admitted\")\n",
    "                                    admitted_m_students.append(m_name)\n",
    "        else:\n",
    "            print(\"You are not admitted\")\n",
    "\n",
    "admitted_m_students = []\n",
    "admitted_c_students = []\n",
    "\n",
    "course = input(\"What course do you intend on studying\")\n",
    "\n",
    "if course == \"Computer Science\" or course == \"Comp Sci\" or course == \"comp sci\":\n",
    "        Computer_Science()\n",
    "        print(\"The following students have been admitted\")\n",
    "        print(admitted_c_students) \n",
    "\n",
    "        if course == \"Mass Communication\" or course == \"Mass Comm\" or course == \"mass comm\":\n",
    "            Mass_Communication()\n",
    "            print(admitted_m_students) \n",
    "\n",
    "                              "
   ]
  },
  {
   "cell_type": "code",
   "execution_count": null,
   "id": "d770ab01-441a-45ca-a5c9-4fb359af012a",
   "metadata": {},
   "outputs": [],
   "source": []
  }
 ],
 "metadata": {
  "kernelspec": {
   "display_name": "Python 3 (ipykernel)",
   "language": "python",
   "name": "python3"
  },
  "language_info": {
   "codemirror_mode": {
    "name": "ipython",
    "version": 3
   },
   "file_extension": ".py",
   "mimetype": "text/x-python",
   "name": "python",
   "nbconvert_exporter": "python",
   "pygments_lexer": "ipython3",
   "version": "3.11.7"
  }
 },
 "nbformat": 4,
 "nbformat_minor": 5
}
