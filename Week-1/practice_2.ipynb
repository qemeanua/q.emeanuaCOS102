{
 "cells": [
  {
   "cell_type": "code",
   "execution_count": 3,
   "id": "6445887f-4d21-41a0-b261-90d754e5a4b9",
   "metadata": {},
   "outputs": [
    {
     "name": "stdout",
     "output_type": "stream",
     "text": [
      "Hi my name is Matthew. I am String\n",
      "<class 'str'>\n",
      "Hi my name is Precious. I am also a String\n",
      "<class 'str'>\n"
     ]
    }
   ],
   "source": [
    "#Phyton program to print strings and type\n",
    "str1 = \"Hi my name is Matthew. I am String\"\n",
    "str2 = \"Hi my name is Precious. I am also a String\"\n",
    "\n",
    "#displaying string str1 and its type\n",
    "print (str1)\n",
    "print(type(str1))\n",
    "\n",
    "#displaying string str2 and its type\n",
    "print(str2)\n",
    "print(type(str2))      "
   ]
  },
  {
   "cell_type": "code",
   "execution_count": null,
   "id": "00d7cbde-3062-4867-a50d-3045a58a74b9",
   "metadata": {},
   "outputs": [],
   "source": []
  }
 ],
 "metadata": {
  "kernelspec": {
   "display_name": "Python 3 (ipykernel)",
   "language": "python",
   "name": "python3"
  },
  "language_info": {
   "codemirror_mode": {
    "name": "ipython",
    "version": 3
   },
   "file_extension": ".py",
   "mimetype": "text/x-python",
   "name": "python",
   "nbconvert_exporter": "python",
   "pygments_lexer": "ipython3",
   "version": "3.11.7"
  }
 },
 "nbformat": 4,
 "nbformat_minor": 5
}
