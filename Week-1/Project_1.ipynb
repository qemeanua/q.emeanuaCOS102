{
 "cells": [
  {
   "cell_type": "code",
   "execution_count": 4,
   "id": "95a78eec-ab12-4036-bc11-bea37e475012",
   "metadata": {},
   "outputs": [
    {
     "name": "stdout",
     "output_type": "stream",
     "text": [
      "Simple Interest Method to find Amount\n",
      "Your Amount is: 21200.0\n"
     ]
    }
   ],
   "source": [
    " #Formula for amount\n",
    "str1 = \"Simple Interest Method to find Amount\"\n",
    "print(str1) \n",
    "P = 20000\n",
    "R = 2\n",
    "T = 3\n",
    "A = P*(1 + (R/100 *T) )\n",
    "print(\"Your Amount is:\",A)"
   ]
  },
  {
   "cell_type": "code",
   "execution_count": 8,
   "id": "739ca08e-e340-4b3a-897b-a44059c7c666",
   "metadata": {},
   "outputs": [
    {
     "name": "stdout",
     "output_type": "stream",
     "text": [
      "Compounnd Interest Method to find Amount\n",
      "Your Amounnt is: 40000.0\n"
     ]
    }
   ],
   "source": [
    "#Formula for amount\n",
    "str1 = \"Compounnd Interest Method to find Amount\"\n",
    "print(str1)\n",
    "P = 20000\n",
    "R = 2\n",
    "t = 3\n",
    "n = 2\n",
    "A = P*(1 + (R/n)**(n*t))\n",
    "print(\"Your Amount is:\",A)"
   ]
  },
  {
   "cell_type": "code",
   "execution_count": 10,
   "id": "1a423634-e7f8-46dc-970f-28b1f88554ec",
   "metadata": {},
   "outputs": [
    {
     "name": "stdout",
     "output_type": "stream",
     "text": [
      "Formula to find the amount in an annuity plan\n",
      "Your amount is : 20000.0\n"
     ]
    }
   ],
   "source": [
    "#Formula for Amount\n",
    "str1 = \"Formula to find the amount in an annuity plan\"\n",
    "print(str1)\n",
    "PMT = 20000\n",
    "R = 2\n",
    "t = 3\n",
    "n =2\n",
    "B = (1 + (R/n)**(n*t))\n",
    "A = PMT * (B - 1) / (R/n)\n",
    "print(\"Your amount is :\", A)\n"
   ]
  },
  {
   "cell_type": "code",
   "execution_count": null,
   "id": "93a1eedc-4643-4b9c-bab5-e3c31b9cdb00",
   "metadata": {},
   "outputs": [],
   "source": []
  }
 ],
 "metadata": {
  "kernelspec": {
   "display_name": "Python 3 (ipykernel)",
   "language": "python",
   "name": "python3"
  },
  "language_info": {
   "codemirror_mode": {
    "name": "ipython",
    "version": 3
   },
   "file_extension": ".py",
   "mimetype": "text/x-python",
   "name": "python",
   "nbconvert_exporter": "python",
   "pygments_lexer": "ipython3",
   "version": "3.11.7"
  }
 },
 "nbformat": 4,
 "nbformat_minor": 5
}
