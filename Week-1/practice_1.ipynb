{
 "cells": [
  {
   "cell_type": "code",
   "execution_count": 1,
   "id": "023c4ee9-bd47-4282-be00-b401109b6099",
   "metadata": {},
   "outputs": [
    {
     "name": "stdout",
     "output_type": "stream",
     "text": [
      "100\n",
      "Data Type of variable num is <class 'int'>\n",
      "34.45\n",
      "Data Type of variable fnum is <class 'float'>\n",
      "(3+4j)\n",
      "Data Type of variable cnum is  <class 'complex'>\n"
     ]
    }
   ],
   "source": [
    "#Integer number\n",
    "num = 100\n",
    "print(num)\n",
    "print(\"Data Type of variable num is\", type(num))\n",
    "\n",
    "#Float number\n",
    "fnum = 34.45\n",
    "print(fnum)\n",
    "print(\"Data Type of variable fnum is\", type(fnum))\n",
    "\n",
    "# Complex number\n",
    "cnum = 3 + 4j\n",
    "print(cnum)\n",
    "print(\"Data Type of variable cnum is \", type(cnum))\n"
   ]
  },
  {
   "cell_type": "code",
   "execution_count": null,
   "id": "311ab255-7289-4a50-82c2-322d256ef82b",
   "metadata": {},
   "outputs": [],
   "source": []
  }
 ],
 "metadata": {
  "kernelspec": {
   "display_name": "Python 3 (ipykernel)",
   "language": "python",
   "name": "python3"
  },
  "language_info": {
   "codemirror_mode": {
    "name": "ipython",
    "version": 3
   },
   "file_extension": ".py",
   "mimetype": "text/x-python",
   "name": "python",
   "nbconvert_exporter": "python",
   "pygments_lexer": "ipython3",
   "version": "3.11.7"
  }
 },
 "nbformat": 4,
 "nbformat_minor": 5
}
