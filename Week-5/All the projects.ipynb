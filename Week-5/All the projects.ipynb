{
 "cells": [
  {
   "cell_type": "code",
   "execution_count": 1,
   "id": "b5376b29-93db-437b-a3f9-f2990b8bc87e",
   "metadata": {},
   "outputs": [
    {
     "name": "stdout",
     "output_type": "stream",
     "text": [
      "I'm first call to user defined function!\n",
      "Again second call to the same function\n"
     ]
    }
   ],
   "source": [
    "def printme(str):\n",
    "    #this is a print function\n",
    "    print(str)\n",
    "    return;\n",
    "\n",
    "printme(\"I'm first call to user defined function!\");\n",
    "printme(\"Again second call to the same function\");\n"
   ]
  },
  {
   "cell_type": "code",
   "execution_count": 3,
   "id": "9a6d0047-f9ea-413d-b3c0-66db63885b0e",
   "metadata": {},
   "outputs": [
    {
     "name": "stdout",
     "output_type": "stream",
     "text": [
      "Values inside the function:  [10, 20, 30, [1, 2, 3, 4]]\n",
      "Values outside the function;  [10, 20, 30, [1, 2, 3, 4]]\n"
     ]
    }
   ],
   "source": [
    "def changeme(mylist):\n",
    "    #This changes a passed list\n",
    "    mylist.append([1,2,3,4])\n",
    "    print(\"Values inside the function: \", mylist)\n",
    "    return\n",
    "\n",
    "mylist = [10,20,30]\n",
    "changeme(mylist)\n",
    "print(\"Values outside the function; \", mylist)"
   ]
  },
  {
   "cell_type": "code",
   "execution_count": 4,
   "id": "e222df7a-9d83-435d-af14-8418e98eae0a",
   "metadata": {},
   "outputs": [
    {
     "name": "stdout",
     "output_type": "stream",
     "text": [
      "Values inside the function:  [1, 2, 3, 4]\n",
      "Values outside the function;  [10, 20, 30]\n"
     ]
    }
   ],
   "source": [
    "def changeme(mylist):\n",
    "    #This changes a passed list\n",
    "    mylist = [1,2,3,4]\n",
    "    print(\"Values inside the function: \", mylist)\n",
    "    return\n",
    "\n",
    "mylist = [10,20,30]\n",
    "changeme(mylist)\n",
    "print(\"Values outside the function; \", mylist)"
   ]
  },
  {
   "cell_type": "code",
   "execution_count": 6,
   "id": "a1cd2373-296f-44be-9b9a-8fcc373df109",
   "metadata": {},
   "outputs": [
    {
     "name": "stdout",
     "output_type": "stream",
     "text": [
      "My String\n"
     ]
    }
   ],
   "source": [
    "def printme( str ):\n",
    "    #This prints a passed string\n",
    "    print(str);\n",
    "    return;\n",
    "\n",
    "printme(str = \"My String\");"
   ]
  },
  {
   "cell_type": "code",
   "execution_count": 7,
   "id": "22b0fd4b-ed4d-4a67-bc7d-9a0d999c367a",
   "metadata": {},
   "outputs": [
    {
     "name": "stdout",
     "output_type": "stream",
     "text": [
      "Name: zinny\n",
      "Age: 50\n"
     ]
    }
   ],
   "source": [
    "def printinfo(name,age):\n",
    "    #Test Function\n",
    "    print(\"Name:\", name);\n",
    "    print(\"Age:\", age);\n",
    "    return;\n",
    "\n",
    "printinfo(age=50, name=\"zinny\");\n"
   ]
  },
  {
   "cell_type": "code",
   "execution_count": 8,
   "id": "8c62ebfa-0c7c-4d6d-b55e-7eef168ece4b",
   "metadata": {},
   "outputs": [
    {
     "name": "stdout",
     "output_type": "stream",
     "text": [
      "Name: zinny\n",
      "Age: 50\n",
      "Name: zinny\n",
      "Age: 35\n"
     ]
    }
   ],
   "source": [
    "def printinfo(name,age=35):\n",
    "    #Test Function\n",
    "    print(\"Name:\", name);\n",
    "    print(\"Age:\", age);\n",
    "    return;\n",
    "\n",
    "printinfo(age=50, name=\"zinny\");\n",
    "printinfo(name = \"zinny\")\n"
   ]
  },
  {
   "cell_type": "code",
   "execution_count": 9,
   "id": "8bd29ad3-b035-4a58-ad5f-4721c9f037ae",
   "metadata": {},
   "outputs": [
    {
     "name": "stdout",
     "output_type": "stream",
     "text": [
      "Output is :  \n",
      "10\n",
      "Output is :  \n",
      "40\n",
      "50\n"
     ]
    }
   ],
   "source": [
    "def printinfo(arg1, *vartuple):\n",
    "    #This is test\n",
    "    print(\"Output is :  \")\n",
    "    print(arg1)\n",
    "    for var in vartuple:\n",
    "        print(var)\n",
    "        return;\n",
    "\n",
    "printinfo(10);\n",
    "printinfo(40,50,60);\n"
   ]
  },
  {
   "cell_type": "code",
   "execution_count": 10,
   "id": "f6584b6a-38ac-4f77-869a-1fffa04d2f6d",
   "metadata": {},
   "outputs": [
    {
     "name": "stdout",
     "output_type": "stream",
     "text": [
      "Inside the function local total:  30\n",
      "Outside the function global total:  50\n"
     ]
    }
   ],
   "source": [
    "total = 50; #Thi is global variable.\n",
    "def sum(arg1, arg2):\n",
    "    #Add both the parameters\n",
    "    total = arg1 + arg2;\n",
    "    print(\"Inside the function local total: \", total)\n",
    "    return total;\n",
    "\n",
    "#Now you can call sum function\n",
    "sum(10,20);\n",
    "print(\"Outside the function global total: \", total)"
   ]
  },
  {
   "cell_type": "code",
   "execution_count": 12,
   "id": "2ae0b034-832d-4ec5-9bcb-d74491c47bae",
   "metadata": {},
   "outputs": [
    {
     "name": "stdout",
     "output_type": "stream",
     "text": [
      "Lawal Edward Tolu Tina\n",
      "Mary\n"
     ]
    }
   ],
   "source": [
    "def swap(x,y):\n",
    "    global a\n",
    "    a = \"Lawal\"\n",
    "    x,y = y,x\n",
    "    b = \"Chris\"\n",
    "    b = \"Edward\"\n",
    "    c = \"Lola\"\n",
    "    print(a,b,x,y)\n",
    "    a = \"Mary\"\n",
    "swap(\"Tina\",\"Tolu\")\n",
    "print(a)    "
   ]
  },
  {
   "cell_type": "code",
   "execution_count": null,
   "id": "9c81c658-199d-4d93-b434-fe3adb613b68",
   "metadata": {},
   "outputs": [],
   "source": [
    "import tkinter as tk\n",
    "\n",
    "#Handling button click event\n",
    "def button_click():\n",
    "    #print(\"Button clicked!\")\n",
    "\n",
    "    #Show on information message box\n",
    "    msgbox.showinfo(\"Info\", \"Welcome to COS 102 GUI App!\\n\")\n",
    "\n",
    "    #Ask for user conformation\n",
    "    result = msgbox.askyesno(\"confirmation\", \"do you want to continue\")\n",
    "\n",
    "#Create the main window\n",
    "root = tk.Tk()\n",
    "root.title(\"Home page\")\n",
    "root.geometry(\"300X100\")\n",
    "\n",
    "#Add a label widget\n",
    "label = tk.label(root, text = \"Hello Friend\\n\")\n",
    "label.pack()\n",
    "\n",
    "#Add a button widget\n",
    "button =tk.Button(root, text = \"Click me!\", command=button_click)\n",
    "button.pack()\n",
    "\n",
    "#Styling the button widget\n",
    "button.config(fg = \"red\", bg = \"yellow\")\n",
    "\n",
    "#Start the event loop\n",
    "root.mainloop()\n",
    "\n",
    "    "
   ]
  },
  {
   "cell_type": "code",
   "execution_count": 15,
   "id": "fdbe2d2a-1523-40cd-97b3-932da0bf82d5",
   "metadata": {
    "scrolled": true
   },
   "outputs": [
    {
     "ename": "ImportError",
     "evalue": "cannot import name 'ImageTK' from 'PIL' (C:\\Users\\Queen Esther\\Documents\\100 LVL - 2nd Semester\\COS 102\\Lib\\site-packages\\PIL\\__init__.py)",
     "output_type": "error",
     "traceback": [
      "\u001b[1;31m---------------------------------------------------------------------------\u001b[0m",
      "\u001b[1;31mImportError\u001b[0m                               Traceback (most recent call last)",
      "Cell \u001b[1;32mIn[15], line 3\u001b[0m\n\u001b[0;32m      1\u001b[0m \u001b[38;5;28;01mimport\u001b[39;00m \u001b[38;5;21;01mtkinter\u001b[39;00m \u001b[38;5;28;01mas\u001b[39;00m \u001b[38;5;21;01mtk\u001b[39;00m\n\u001b[0;32m      2\u001b[0m \u001b[38;5;28;01mfrom\u001b[39;00m \u001b[38;5;21;01mtkinter\u001b[39;00m \u001b[38;5;28;01mimport\u001b[39;00m messagebox\n\u001b[1;32m----> 3\u001b[0m \u001b[38;5;28;01mfrom\u001b[39;00m \u001b[38;5;21;01mPIL\u001b[39;00m \u001b[38;5;28;01mimport\u001b[39;00m Image, ImageTK\n\u001b[0;32m      5\u001b[0m \u001b[38;5;28;01mdef\u001b[39;00m \u001b[38;5;21mwelcomeMessage\u001b[39m(username):\n\u001b[0;32m      6\u001b[0m     \u001b[38;5;66;03m#create a Tkinter window\u001b[39;00m\n\u001b[0;32m      7\u001b[0m     window \u001b[38;5;241m=\u001b[39m tk\u001b[38;5;241m.\u001b[39mToplevel(root)\n",
      "\u001b[1;31mImportError\u001b[0m: cannot import name 'ImageTK' from 'PIL' (C:\\Users\\Queen Esther\\Documents\\100 LVL - 2nd Semester\\COS 102\\Lib\\site-packages\\PIL\\__init__.py)"
     ]
    }
   ],
   "source": [
    "import tkinter as tk\n",
    "from tkinter import messagebox\n",
    "from PIL import Image, ImageTK\n",
    "\n",
    "def welcomeMessage(username):\n",
    "    #create a Tkinter window\n",
    "    window = tk.Toplevel(root)\n",
    "    window.title(\"Admin Box\")\n",
    "    window.geometry(\"500X200\")\n",
    "\n",
    "    label_1 = tk.label(window, text = f\"Welcome {username}\\n\")\n",
    "    label_1.pack()\n",
    "    label_2 = tk.label(window, text = \"This is Phyton GUI with Tkinter\")\n",
    "    label_2.pack()   \n",
    "\n",
    "    # Run the Tkinter event loop\n",
    "    root.mainloop()\n",
    "\n",
    "def submit():\n",
    "    username = username_entry.get()\n",
    "    password = password_entry.get()\n",
    "\n",
    "    if username == \"Mary\" and password == \"cos102\":\n",
    "        welcomeMessage(username)\n",
    "    else:\n",
    "        messagebox.showerror(\"Login\", \"Invalid username or password\")\n",
    "\n",
    "#create amain window\n",
    "root = tk.Tk()\n",
    "root.title(\"Login Form\")\n",
    "root.geometry(\"500X200\")\n",
    "\n",
    "#Create username label and entry\n",
    "username_label = tk.label(root, text = \"Username: \")\n",
    "username_label.pack()\n",
    "username_entry = tk.Entry(root)\n",
    "username_entry.pack()\n",
    "\n",
    "#Create password label and entry\n",
    "password_label = tk.label(root, text = \"Password: \")\n",
    "password_label.pack()\n",
    "password_entry = tk.Entry(root,show=\"*\")\n",
    "password_entry.pack()\n",
    "\n",
    "#Create submit button\n",
    "submit_button = tk.Button(root,text=\"Submit\", command = submit)\n",
    "submit_button.pack()\n",
    "\n",
    "#Run the main event loop\n",
    "root.mainloop()\n",
    "\n",
    "        "
   ]
  },
  {
   "cell_type": "code",
   "execution_count": null,
   "id": "33344d7d-6705-4719-8572-8a035567ed6d",
   "metadata": {},
   "outputs": [],
   "source": []
  }
 ],
 "metadata": {
  "kernelspec": {
   "display_name": "Python 3 (ipykernel)",
   "language": "python",
   "name": "python3"
  },
  "language_info": {
   "codemirror_mode": {
    "name": "ipython",
    "version": 3
   },
   "file_extension": ".py",
   "mimetype": "text/x-python",
   "name": "python",
   "nbconvert_exporter": "python",
   "pygments_lexer": "ipython3",
   "version": "3.11.7"
  }
 },
 "nbformat": 4,
 "nbformat_minor": 5
}
