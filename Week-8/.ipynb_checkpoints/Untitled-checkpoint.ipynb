{
 "cells": [
  {
   "cell_type": "code",
   "execution_count": 4,
   "id": "d4183ef0-d043-44ac-a397-aaf4a3ce698b",
   "metadata": {},
   "outputs": [],
   "source": [
    "import pandas as pd\n",
    "\n",
    "#reading data from csv file\n",
    "data1 = pd.read_csv(\"CryptoData.csv\")\n",
    "data2 = pd.read_csv(\"Top-Apps-in-Google-Play.csv\")\n",
    "data3 = pd.read_csv(\"programming language trend over time.csv\")\n",
    "\n",
    "df1 = data1.iloc[:7]\n",
    "df2 = data2.iloc[:7]\n",
    "df3 = data3.iloc[:7]\n"
   ]
  },
  {
   "cell_type": "code",
   "execution_count": null,
   "id": "1815258c-1cc4-4646-b1d7-44466fb1a0ff",
   "metadata": {},
   "outputs": [],
   "source": []
  }
 ],
 "metadata": {
  "kernelspec": {
   "display_name": "Python 3 (ipykernel)",
   "language": "python",
   "name": "python3"
  },
  "language_info": {
   "codemirror_mode": {
    "name": "ipython",
    "version": 3
   },
   "file_extension": ".py",
   "mimetype": "text/x-python",
   "name": "python",
   "nbconvert_exporter": "python",
   "pygments_lexer": "ipython3",
   "version": "3.11.7"
  }
 },
 "nbformat": 4,
 "nbformat_minor": 5
}
