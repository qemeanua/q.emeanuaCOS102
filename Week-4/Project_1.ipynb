{
 "cells": [
  {
   "cell_type": "code",
   "execution_count": 12,
   "id": "51a531ac-89f6-40f1-9e47-be7add0beb7b",
   "metadata": {},
   "outputs": [
    {
     "name": "stdin",
     "output_type": "stream",
     "text": [
      "input your name ayo\n",
      "input your age 20\n",
      "input your height 6.1\n",
      "input your score 90\n",
      "input your name Waje\n",
      "input your age 50\n",
      "input your height 6.0\n",
      "input your score 89\n"
     ]
    },
    {
     "name": "stdout",
     "output_type": "stream",
     "text": [
      "['ayo', 'Waje']\n",
      "['20', '50']\n",
      "['6.1', '6.0']\n",
      "['90', '89']\n"
     ]
    }
   ],
   "source": [
    "#Details of students in a class of 20 \n",
    "\n",
    "name = []\n",
    "age = []\n",
    "height = []\n",
    "score = []\n",
    "\n",
    "for i in range(20):\n",
    "    n1 = input('input your name')\n",
    "    n2 = input('input your age')\n",
    "    n3 = input('input your height')\n",
    "    n4 = input('input your score')\n",
    "    name.append(n1)\n",
    "    age.append(n2)\n",
    "    height.append(n3)\n",
    "    score.append(n4)\n",
    "    #print(name,age,height,score)\n",
    "\n",
    "print(name)\n",
    "print(age)\n",
    "print(height)\n",
    "print(score)\n",
    "\n",
    "    \n",
    "    "
   ]
  },
  {
   "cell_type": "code",
   "execution_count": null,
   "id": "a13050e7-554b-4585-a735-6b51a0006875",
   "metadata": {},
   "outputs": [],
   "source": [
    "Girls = {'Names:' : ["
   ]
  }
 ],
 "metadata": {
  "kernelspec": {
   "display_name": "Python 3 (ipykernel)",
   "language": "python",
   "name": "python3"
  },
  "language_info": {
   "codemirror_mode": {
    "name": "ipython",
    "version": 3
   },
   "file_extension": ".py",
   "mimetype": "text/x-python",
   "name": "python",
   "nbconvert_exporter": "python",
   "pygments_lexer": "ipython3",
   "version": "3.11.7"
  }
 },
 "nbformat": 4,
 "nbformat_minor": 5
}
