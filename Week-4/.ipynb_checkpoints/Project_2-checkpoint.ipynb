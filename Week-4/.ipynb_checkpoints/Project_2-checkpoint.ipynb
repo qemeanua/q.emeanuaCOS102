{
 "cells": [
  {
   "cell_type": "code",
   "execution_count": 10,
   "id": "b0bc7248-d2a2-4274-ada8-521554719773",
   "metadata": {},
   "outputs": [
    {
     "name": "stdin",
     "output_type": "stream",
     "text": [
      "How many years of experience do you have? 15\n",
      "How old are you? 35\n"
     ]
    },
    {
     "name": "stdout",
     "output_type": "stream",
     "text": [
      "Annual Tax Revenue is N1,500,000.\n"
     ]
    }
   ],
   "source": [
    "#Pytho Program For Izfin technology\n",
    "\n",
    "str1 =(\"Welcome to Izfin technology\")\n",
    "str2 = (\"Please ensure that you input your correct details.\")\n",
    "\n",
    "years_of_experience = int(input('How many years of experience do you have?'))\n",
    "staff_age = int(input('How old are you?'))\n",
    "\n",
    "if years_of_experience > 22 and staff_age >= 55:\n",
    "    print(\"Annual Tax Revenue is N5,600,000.\") \n",
    "\n",
    "if years_of_experience > 20 and staff_age >= 45:\n",
    "    print(\"Annual Tax Revenue is N4,480,000.\") \n",
    "\n",
    "if years_of_experience > 10 and staff_age >= 35:\n",
    "    print(\"Annual Tax Revenue is N1,500,000.\") \n",
    "\n",
    "if years_of_experience < 10 and staff_age < 35:\n",
    "    print(\"Annual Tax Revenue is N550,000.\") \n",
    "\n",
    "\n",
    "    \n",
    "            \n"
   ]
  },
  {
   "cell_type": "code",
   "execution_count": null,
   "id": "93289a1c-3b94-4cef-935d-03dba261eb38",
   "metadata": {},
   "outputs": [],
   "source": [
    "'"
   ]
  }
 ],
 "metadata": {
  "kernelspec": {
   "display_name": "Python 3 (ipykernel)",
   "language": "python",
   "name": "python3"
  },
  "language_info": {
   "codemirror_mode": {
    "name": "ipython",
    "version": 3
   },
   "file_extension": ".py",
   "mimetype": "text/x-python",
   "name": "python",
   "nbconvert_exporter": "python",
   "pygments_lexer": "ipython3",
   "version": "3.11.7"
  }
 },
 "nbformat": 4,
 "nbformat_minor": 5
}
