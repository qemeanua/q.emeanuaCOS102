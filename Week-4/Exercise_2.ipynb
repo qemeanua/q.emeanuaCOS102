{
 "cells": [
  {
   "cell_type": "code",
   "execution_count": 4,
   "id": "c637bdc5-908a-4845-be77-a998ac0434d7",
   "metadata": {},
   "outputs": [
    {
     "name": "stdin",
     "output_type": "stream",
     "text": [
      "Enter a number:  -1\n"
     ]
    },
    {
     "name": "stdout",
     "output_type": "stream",
     "text": [
      "Negative number\n"
     ]
    }
   ],
   "source": [
    "#program to check if a number is postive , negative or 0\n",
    "\n",
    "num = float(input(\"Enter a number: \"))\n",
    "if num > 0:\n",
    "            print(\"Positive number\")\n",
    "            \n",
    "elif num == 0:\n",
    "            print(\"Zero\")\n",
    "\n",
    "else:\n",
    "            print(\"Negative number\")\n",
    "\n"
   ]
  },
  {
   "cell_type": "code",
   "execution_count": null,
   "id": "9da610b7-7f00-41ae-9df1-6803d62be56c",
   "metadata": {},
   "outputs": [],
   "source": []
  }
 ],
 "metadata": {
  "kernelspec": {
   "display_name": "Python 3 (ipykernel)",
   "language": "python",
   "name": "python3"
  },
  "language_info": {
   "codemirror_mode": {
    "name": "ipython",
    "version": 3
   },
   "file_extension": ".py",
   "mimetype": "text/x-python",
   "name": "python",
   "nbconvert_exporter": "python",
   "pygments_lexer": "ipython3",
   "version": "3.11.7"
  }
 },
 "nbformat": 4,
 "nbformat_minor": 5
}
