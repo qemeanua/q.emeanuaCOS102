{
 "cells": [
  {
   "cell_type": "code",
   "execution_count": 6,
   "id": "7e59219b-fecc-4477-a367-7c1c4a085c57",
   "metadata": {},
   "outputs": [
    {
     "name": "stdout",
     "output_type": "stream",
     "text": [
      "Welcome to the COUPE DE ESCRIVA 2024: FOOTBALL \n",
      "\n",
      "Madiba: Chubby Jones\n",
      "Blue Jays: Chris Welch\n",
      "Cirok: Alexander lores\n",
      "TSG Walkers : Ike Don\n",
      "\n",
      "\n",
      "TSG Walkers : Ikechukwu Donald\n",
      "TSG Walkers : Ikechukwu Donald\n",
      "TSG Walkers : Ikechukwu Donald\n",
      "TSG Walkers : Ikechukwu Donald\n"
     ]
    }
   ],
   "source": [
    "#COUPE DE ESCRIVA 2024: FOOTBALL PICKS\n",
    "\n",
    "print(\"Welcome to the COUPE DE ESCRIVA 2024: FOOTBALL \\n\")\n",
    "\n",
    "captain = {'Madiba:' : 'Chubby Jones', 'Blue Jays:':'Chris Welch', 'Cirok:':'Alexander lores'\n",
    "           ,'TSG Walkers :': 'Ike Don'}\n",
    "\n",
    "goalkeepers = {'Madiba:' : 'Jonas Adam',\n",
    "               'Blue Jays:':'Topher Nto',\n",
    "               'Cirok:':'Timi Ade',\n",
    "               'TSG Walkers :': 'Ikechukwu Donald'}\n",
    "\n",
    "for i in captain:\n",
    "    print(i, captain[i])\n",
    "\n",
    "print(\"\\n\") \n",
    "\n",
    "for pick in goalkeepers:\n",
    "    print(i,goalkeepers[i])\n",
    "\n",
    "               "
   ]
  },
  {
   "cell_type": "code",
   "execution_count": null,
   "id": "0e1e813f-f487-4841-b632-7eda1de5f897",
   "metadata": {},
   "outputs": [],
   "source": []
  }
 ],
 "metadata": {
  "kernelspec": {
   "display_name": "Python 3 (ipykernel)",
   "language": "python",
   "name": "python3"
  },
  "language_info": {
   "codemirror_mode": {
    "name": "ipython",
    "version": 3
   },
   "file_extension": ".py",
   "mimetype": "text/x-python",
   "name": "python",
   "nbconvert_exporter": "python",
   "pygments_lexer": "ipython3",
   "version": "3.11.7"
  }
 },
 "nbformat": 4,
 "nbformat_minor": 5
}
